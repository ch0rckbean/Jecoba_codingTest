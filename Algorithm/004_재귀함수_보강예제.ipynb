{
 "cells": [
  {
   "cell_type": "code",
   "execution_count": 1,
   "id": "0afb0d96",
   "metadata": {
    "scrolled": true
   },
   "outputs": [
    {
     "name": "stdout",
     "output_type": "stream",
     "text": [
      "10\n",
      "9\n",
      "8\n",
      "7\n",
      "6\n",
      "5\n",
      "4\n",
      "3\n",
      "2\n",
      "1\n",
      "끝!!\n"
     ]
    }
   ],
   "source": [
    "# def helloWorld():\n",
    "#     return helloWorld()\n",
    "# helloWorld()\n",
    "\n",
    "def 숫자세기(숫자):\n",
    "    if 숫자 <=0:\n",
    "        print('끝!!')\n",
    "    else:\n",
    "        print(숫자)\n",
    "        return 숫자세기(숫자-1)\n",
    "숫자세기(10)"
   ]
  },
  {
   "cell_type": "code",
   "execution_count": 3,
   "id": "ec7bb035",
   "metadata": {},
   "outputs": [
    {
     "name": "stdout",
     "output_type": "stream",
     "text": [
      "0\n",
      "1\n",
      "1\n",
      "2\n",
      "3\n",
      "5\n",
      "8\n",
      "13\n",
      "21\n",
      "34\n",
      "55\n"
     ]
    }
   ],
   "source": [
    "#피보나치\n",
    "# 0 1 1 2 3 5 8 13 21\n",
    "#순회 전        a=0, b=1  1\n",
    "#첫번째 순회    a=1, b=1  1\n",
    "#두번째 순회    a=1, b=2  2 \n",
    "#세번째 순회    a=2, b=3  3\n",
    "#네번째 순회    a=3, b=5  5\n",
    "#다섯번째 순회  a=5, b=8  8\n",
    "\n",
    "a=0\n",
    "b=1\n",
    "print(a)\n",
    "\n",
    "for i in range(10):\n",
    "    print(b)\n",
    "    a,b=b, a+b"
   ]
  },
  {
   "cell_type": "code",
   "execution_count": 5,
   "id": "0932ed29",
   "metadata": {},
   "outputs": [
    {
     "name": "stdout",
     "output_type": "stream",
     "text": [
      "8\n",
      "13\n"
     ]
    }
   ],
   "source": [
    "# f(n)=f(n-1)+f(n-2)\n",
    "def 피보나치(숫자):\n",
    "    if 숫자==0 or 숫자 ==1:\n",
    "        return 1\n",
    "    return 피보나치(숫자-1)+피보나치(숫자-2)\n",
    "\n",
    "print(피보나치(5))\n",
    "print(피보나치(6))"
   ]
  },
  {
   "cell_type": "code",
   "execution_count": null,
   "id": "51163022",
   "metadata": {},
   "outputs": [],
   "source": [
    "s=0\n",
    "for i in [100,200,300,400]:\n",
    "    s+=i\n",
    "print(s)"
   ]
  },
  {
   "cell_type": "code",
   "execution_count": 6,
   "id": "af5a3fc5",
   "metadata": {},
   "outputs": [
    {
     "data": {
      "text/plain": [
       "1000"
      ]
     },
     "execution_count": 6,
     "metadata": {},
     "output_type": "execute_result"
    }
   ],
   "source": [
    "def s(l):\n",
    "    if len(l)==1:\n",
    "        return l[0]\n",
    "    else:\n",
    "        return l[0]+s(l[1:])\n",
    "s([100,200,300,400])"
   ]
  },
  {
   "cell_type": "code",
   "execution_count": 7,
   "id": "4c0a7bed",
   "metadata": {},
   "outputs": [
    {
     "name": "stdout",
     "output_type": "stream",
     "text": [
      "64\n",
      "64\n"
     ]
    }
   ],
   "source": [
    "print(2**6) #64\n",
    "result=1\n",
    "\n",
    "for i in range(6):\n",
    "    result*=2\n",
    "print(result)"
   ]
  },
  {
   "cell_type": "code",
   "execution_count": 2,
   "id": "a3c3f429",
   "metadata": {},
   "outputs": [
    {
     "data": {
      "text/plain": [
       "64"
      ]
     },
     "execution_count": 2,
     "metadata": {},
     "output_type": "execute_result"
    }
   ],
   "source": [
    "def f(n,e):\n",
    "    result=1\n",
    "    for i in range(e):\n",
    "        result*=n\n",
    "    return result\n",
    "f(2,6)"
   ]
  },
  {
   "cell_type": "code",
   "execution_count": 3,
   "id": "a7b44e7a",
   "metadata": {},
   "outputs": [
    {
     "data": {
      "text/plain": [
       "64"
      ]
     },
     "execution_count": 3,
     "metadata": {},
     "output_type": "execute_result"
    }
   ],
   "source": [
    "def f(n,e):\n",
    "    if e==1:\n",
    "        return n\n",
    "    else:\n",
    "        return n*f(n,e-1)\n",
    "f(2,6)"
   ]
  },
  {
   "cell_type": "code",
   "execution_count": null,
   "id": "f273afc5",
   "metadata": {},
   "outputs": [],
   "source": [
    "def comma(s):\n",
    "    if len(s)<3:\n",
    "        return s\n",
    "    else:\n",
    "        return comma(s[:len(s)-3])+','+s[len(s)-3:]"
   ]
  },
  {
   "cell_type": "code",
   "execution_count": 4,
   "id": "a0f345ec",
   "metadata": {},
   "outputs": [
    {
     "name": "stdout",
     "output_type": "stream",
     "text": [
      "99,999,999,999\n"
     ]
    }
   ],
   "source": [
    "n=99999999999\n",
    "n=format(n,',')\n",
    "print(n)"
   ]
  }
 ],
 "metadata": {
  "kernelspec": {
   "display_name": "Python 3 (ipykernel)",
   "language": "python",
   "name": "python3"
  },
  "language_info": {
   "codemirror_mode": {
    "name": "ipython",
    "version": 3
   },
   "file_extension": ".py",
   "mimetype": "text/x-python",
   "name": "python",
   "nbconvert_exporter": "python",
   "pygments_lexer": "ipython3",
   "version": "3.9.7"
  }
 },
 "nbformat": 4,
 "nbformat_minor": 5
}
