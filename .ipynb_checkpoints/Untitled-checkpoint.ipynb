{
 "cells": [
  {
   "cell_type": "code",
   "execution_count": 3,
   "id": "17fa6889",
   "metadata": {},
   "outputs": [
    {
     "name": "stdout",
     "output_type": "stream",
     "text": [
      "제 이름은 Jelly이고, 나이는 10 입니다.\n",
      "제 나이는 10입니다. 제 이름은 Jelly입니다.\n"
     ]
    }
   ],
   "source": [
    "# 3.6 Version\n",
    "age=10\n",
    "name='Jelly'\n",
    "print('제 이름은 {}이고, 나이는 {} 입니다.'.format(name,age))\n",
    "print(f'제 나이는 {age}입니다. 제 이름은 {name}입니다.')"
   ]
  },
  {
   "cell_type": "code",
   "execution_count": 5,
   "id": "189d04f3",
   "metadata": {},
   "outputs": [
    {
     "name": "stdout",
     "output_type": "stream",
     "text": [
      "2*1= 2\n",
      "2*2= 4\n",
      "2*3= 6\n",
      "2*4= 8\n",
      "2*5= 10\n",
      "2*6= 12\n",
      "2*7= 14\n",
      "2*8= 16\n",
      "2*9= 18\n",
      "3*1= 3\n",
      "3*2= 6\n",
      "3*3= 9\n",
      "3*4= 12\n",
      "3*5= 15\n",
      "3*6= 18\n",
      "3*7= 21\n",
      "3*8= 24\n",
      "3*9= 27\n",
      "4*1= 4\n",
      "4*2= 8\n",
      "4*3= 12\n",
      "4*4= 16\n",
      "4*5= 20\n",
      "4*6= 24\n",
      "4*7= 28\n",
      "4*8= 32\n",
      "4*9= 36\n",
      "5*1= 5\n",
      "5*2= 10\n",
      "5*3= 15\n",
      "5*4= 20\n",
      "5*5= 25\n",
      "5*6= 30\n",
      "5*7= 35\n",
      "5*8= 40\n",
      "5*9= 45\n",
      "6*1= 6\n",
      "6*2= 12\n",
      "6*3= 18\n",
      "6*4= 24\n",
      "6*5= 30\n",
      "6*6= 36\n",
      "6*7= 42\n",
      "6*8= 48\n",
      "6*9= 54\n",
      "7*1= 7\n",
      "7*2= 14\n",
      "7*3= 21\n",
      "7*4= 28\n",
      "7*5= 35\n",
      "7*6= 42\n",
      "7*7= 49\n",
      "7*8= 56\n",
      "7*9= 63\n",
      "8*1= 8\n",
      "8*2= 16\n",
      "8*3= 24\n",
      "8*4= 32\n",
      "8*5= 40\n",
      "8*6= 48\n",
      "8*7= 56\n",
      "8*8= 64\n",
      "8*9= 72\n",
      "9*1= 9\n",
      "9*2= 18\n",
      "9*3= 27\n",
      "9*4= 36\n",
      "9*5= 45\n",
      "9*6= 54\n",
      "9*7= 63\n",
      "9*8= 72\n",
      "9*9= 81\n"
     ]
    }
   ],
   "source": [
    "for i in range(2,10):\n",
    "    for j in range(1,10):\n",
    "        print(f'{i}*{j}= {i*j}')"
   ]
  },
  {
   "cell_type": "code",
   "execution_count": 7,
   "id": "7f844ea2",
   "metadata": {},
   "outputs": [
    {
     "data": {
      "text/plain": [
       "datetime.datetime(2024, 5, 7, 15, 56, 12, 478749)"
      ]
     },
     "execution_count": 7,
     "metadata": {},
     "output_type": "execute_result"
    }
   ],
   "source": [
    "import datetime\n",
    "\n",
    "date=datetime.datetime.now()\n",
    "date"
   ]
  },
  {
   "cell_type": "code",
   "execution_count": 10,
   "id": "a6aaa149",
   "metadata": {},
   "outputs": [
    {
     "data": {
      "text/plain": [
       "' 2024-05-07-Tuesday'"
      ]
     },
     "execution_count": 10,
     "metadata": {},
     "output_type": "execute_result"
    }
   ],
   "source": [
    "f'{date: %Y-%m-%d-%A}'"
   ]
  },
  {
   "cell_type": "code",
   "execution_count": 12,
   "id": "c2ddf4c8",
   "metadata": {},
   "outputs": [
    {
     "data": {
      "text/plain": [
       "'10 X 20= 1200'"
      ]
     },
     "execution_count": 12,
     "metadata": {},
     "output_type": "execute_result"
    }
   ],
   "source": [
    "t=(10,20,30,40)\n",
    "f'{t[0]} X {t[1]}= {t[2] * t[3]}'"
   ]
  },
  {
   "cell_type": "code",
   "execution_count": 21,
   "id": "928b9697",
   "metadata": {},
   "outputs": [
    {
     "name": "stdout",
     "output_type": "stream",
     "text": [
      "hello     \n",
      "     hello\n",
      "  hello   \n",
      "hello!!!!!\n",
      "=====hello\n",
      "~~hello~~~\n"
     ]
    }
   ],
   "source": [
    "# 문자열 \" \" 중요\n",
    "\n",
    "print(f'{\"hello\":<10}')  #왼쪽정렬\n",
    "print(f'{\"hello\":>10}')  #오른쪽정렬\n",
    "print(f'{\"hello\":^10}')  #중앙정렬\n",
    "\n",
    "print(f'{\"hello\":!<10}')  #나머지 빈칸 느낌표로 채움\n",
    "print(f'{\"hello\":=>10}')\n",
    "print(f'{\"hello\":~^10}')"
   ]
  },
  {
   "cell_type": "code",
   "execution_count": 25,
   "id": "21ea99b3",
   "metadata": {},
   "outputs": [
    {
     "name": "stdout",
     "output_type": "stream",
     "text": [
      " 0.46\n",
      " 0.3875\n"
     ]
    }
   ],
   "source": [
    "# 소수점 표현\n",
    "print(f'{0.456789: 0.2f}') # ㅗ수점 두 자리까지만 표현\n",
    "print (f'{0.38746862: 0.4f}')"
   ]
  }
 ],
 "metadata": {
  "kernelspec": {
   "display_name": "Python 3 (ipykernel)",
   "language": "python",
   "name": "python3"
  },
  "language_info": {
   "codemirror_mode": {
    "name": "ipython",
    "version": 3
   },
   "file_extension": ".py",
   "mimetype": "text/x-python",
   "name": "python",
   "nbconvert_exporter": "python",
   "pygments_lexer": "ipython3",
   "version": "3.9.7"
  }
 },
 "nbformat": 4,
 "nbformat_minor": 5
}
