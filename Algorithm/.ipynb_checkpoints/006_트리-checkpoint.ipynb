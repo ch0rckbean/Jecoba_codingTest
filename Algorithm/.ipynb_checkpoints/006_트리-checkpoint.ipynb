{
 "cells": [
  {
   "cell_type": "code",
   "execution_count": 2,
   "id": "a0be0fb4",
   "metadata": {},
   "outputs": [],
   "source": [
    "class 트리:\n",
    "    def __init__(self,데이터):\n",
    "        self.데이터=데이터\n",
    "        self.자식=[]\n",
    "        self.부모=None\n",
    "    \n",
    "    def 신규노드(self,신규노드):\n",
    "        신규노드.부모=self\n",
    "        self.자식.append(신규노드)\n",
    "        "
   ]
  },
  {
   "cell_type": "code",
   "execution_count": 35,
   "id": "2d7e5183",
   "metadata": {},
   "outputs": [],
   "source": [
    "root=트리('프로그래밍공부')\n",
    "\n",
    "html=트리('HTML')\n",
    "html.신규노드(트리('001.html'))\n",
    "html.신규노드(트리('002.html'))\n",
    "html.신규노드(트리('003.html'))\n",
    "root.신규노드(html)\n",
    "\n",
    "css=트리('CSS')\n",
    "css.신규노드(트리('001.css'))\n",
    "css.신규노드(트리('002.css'))\n",
    "css.신규노드(트리('003.css'))\n",
    "root.신규노드(css)\n",
    "\n",
    "javascript=트리('JS')\n",
    "javascript.신규노드(트리('001.js'))\n",
    "javascript.신규노드(트리('002.js'))\n",
    "javascript.신규노드(트리('003.js'))\n",
    "root.신규노드(javascript)\n",
    "\n",
    "python=트리('Python')\n",
    "python.신규노드(트리('001.py'))\n",
    "python.신규노드(트리('002.py'))\n",
    "python.신규노드(트리('003.py'))\n",
    "root.신규노드(python)\n",
    "\n",
    "python_프로젝트폴더=트리('프로젝트폴더')\n",
    "python_프로젝트폴더.신규노드(트리('p001.py'))\n",
    "python.신규노드=(python_프로젝트폴더)"
   ]
  },
  {
   "cell_type": "code",
   "execution_count": 36,
   "id": "56a32f5b",
   "metadata": {},
   "outputs": [
    {
     "ename": "IndexError",
     "evalue": "list index out of range",
     "output_type": "error",
     "traceback": [
      "\u001b[1;31m---------------------------------------------------------------------------\u001b[0m",
      "\u001b[1;31mIndexError\u001b[0m                                Traceback (most recent call last)",
      "\u001b[1;32mC:\\Users\\HYEBEE~1\\AppData\\Local\\Temp/ipykernel_3876/620838729.py\u001b[0m in \u001b[0;36m<module>\u001b[1;34m\u001b[0m\n\u001b[0;32m      2\u001b[0m \u001b[0mroot\u001b[0m\u001b[1;33m.\u001b[0m\u001b[0m자식\u001b[0m \u001b[1;31m# list\u001b[0m\u001b[1;33m\u001b[0m\u001b[1;33m\u001b[0m\u001b[0m\n\u001b[0;32m      3\u001b[0m \u001b[0mroot\u001b[0m\u001b[1;33m.\u001b[0m\u001b[0m자식\u001b[0m\u001b[1;33m[\u001b[0m\u001b[1;36m0\u001b[0m\u001b[1;33m]\u001b[0m\u001b[1;33m.\u001b[0m\u001b[0m데이터\u001b[0m \u001b[1;31m#'HTML'\u001b[0m\u001b[1;33m\u001b[0m\u001b[1;33m\u001b[0m\u001b[0m\n\u001b[1;32m----> 4\u001b[1;33m \u001b[0mroot\u001b[0m\u001b[1;33m.\u001b[0m\u001b[0m자식\u001b[0m\u001b[1;33m[\u001b[0m\u001b[1;36m3\u001b[0m\u001b[1;33m]\u001b[0m\u001b[1;33m.\u001b[0m\u001b[0m자식\u001b[0m\u001b[1;33m[\u001b[0m\u001b[1;36m3\u001b[0m\u001b[1;33m]\u001b[0m\u001b[1;33m.\u001b[0m\u001b[0m자식\u001b[0m\u001b[1;33m[\u001b[0m\u001b[1;36m0\u001b[0m\u001b[1;33m]\u001b[0m\u001b[1;33m.\u001b[0m\u001b[0m데이터\u001b[0m \u001b[1;31m# 'p001.py'\u001b[0m\u001b[1;33m\u001b[0m\u001b[1;33m\u001b[0m\u001b[0m\n\u001b[0m",
      "\u001b[1;31mIndexError\u001b[0m: list index out of range"
     ]
    }
   ],
   "source": [
    "root.데이터 # '프로그래밍공부'\n",
    "root.자식 # list\n",
    "root.자식[0].데이터 #'HTML'\n",
    "root.자식[3].자식[3].자식[0].데이터 # 'p001.py'"
   ]
  },
  {
   "cell_type": "code",
   "execution_count": 37,
   "id": "ad91c978",
   "metadata": {},
   "outputs": [],
   "source": [
    "# class Node:\n",
    "#      def __init__(self,데이터):\n",
    "#         self.데이터=데이터\n",
    "#         self.자식=[]\n",
    "#         self.부모=None\n",
    "#         self.형제=\n",
    "#         self.레벨\n",
    "\n",
    "class 트리:\n",
    "    def __init__(self,데이터):\n",
    "        self.데이터=데이터\n",
    "        self.자식=[]\n",
    "        self.부모=None\n",
    "    \n",
    "    def 신규노드(self,신규노드):\n",
    "        신규노드.부모=self\n",
    "        self.자식.append(신규노드)\n",
    "    \n",
    "    def __str__(self):\n",
    "        if self.부모:\n",
    "            if self.부모.자식[-1]!=self: # 마지막 자식이 아니면\n",
    "                경로=(' '* self.레벨() * 4) + \"|--\"\n",
    "            else: #마지막 자식이면\n",
    "                 경로=(' '* self.레벨() * 4) + \"ㄴ--\"\n",
    "        else:\n",
    "            경로=''    \n",
    "        print(경로 + self.데이터)\n",
    "        \n",
    "        if self.자식:\n",
    "            for 노드 in self.자식:\n",
    "                노드.__str__()\n",
    "            return ''\n",
    "    \n",
    "    def 레벨(self):\n",
    "        레벨=0\n",
    "        노드=self.부모\n",
    "        while 노드:\n",
    "            레벨+=1\n",
    "            노드=노드.부모\n",
    "        return 레벨"
   ]
  },
  {
   "cell_type": "code",
   "execution_count": 38,
   "id": "031dcd41",
   "metadata": {},
   "outputs": [],
   "source": [
    "root=트리('프로그래밍공부')\n",
    "\n",
    "html=트리('HTML')\n",
    "html.신규노드(트리('001.html'))\n",
    "html.신규노드(트리('002.html'))\n",
    "html.신규노드(트리('003.html'))\n",
    "root.신규노드(html)\n",
    "\n",
    "css=트리('CSS')\n",
    "css.신규노드(트리('001.css'))\n",
    "css.신규노드(트리('002.css'))\n",
    "css.신규노드(트리('003.css'))\n",
    "root.신규노드(css)\n",
    "\n",
    "javascript=트리('JS')\n",
    "javascript.신규노드(트리('001.js'))\n",
    "javascript.신규노드(트리('002.js'))\n",
    "javascript.신규노드(트리('003.js'))\n",
    "root.신규노드(javascript)\n",
    "\n",
    "python=트리('Python')\n",
    "python.신규노드(트리('001.py'))\n",
    "python.신규노드(트리('002.py'))\n",
    "python.신규노드(트리('003.py'))\n",
    "root.신규노드(python)\n",
    "\n",
    "python_프로젝트폴더=트리('프로젝트폴더')\n",
    "python_프로젝트폴더.신규노드(트리('p001.py'))\n",
    "python.신규노드=(python_프로젝트폴더)"
   ]
  },
  {
   "cell_type": "code",
   "execution_count": 33,
   "id": "88e2e5ca",
   "metadata": {},
   "outputs": [
    {
     "name": "stdout",
     "output_type": "stream",
     "text": [
      "프로그래밍공부\n",
      "    |--HTML\n",
      "        |--001.html\n",
      "        |--002.html\n",
      "        ㄴ--003.html\n",
      "    |--CSS\n",
      "        |--001.css\n",
      "        |--002.css\n",
      "        ㄴ--003.css\n",
      "    |--JS\n",
      "        |--001.js\n",
      "        |--002.js\n",
      "        ㄴ--003.js\n",
      "    ㄴ--Python\n",
      "        |--001.py\n",
      "        |--002.py\n",
      "        ㄴ--003.py\n",
      "\n"
     ]
    }
   ],
   "source": [
    "print(root)"
   ]
  }
 ],
 "metadata": {
  "kernelspec": {
   "display_name": "Python 3 (ipykernel)",
   "language": "python",
   "name": "python3"
  },
  "language_info": {
   "codemirror_mode": {
    "name": "ipython",
    "version": 3
   },
   "file_extension": ".py",
   "mimetype": "text/x-python",
   "name": "python",
   "nbconvert_exporter": "python",
   "pygments_lexer": "ipython3",
   "version": "3.9.7"
  }
 },
 "nbformat": 4,
 "nbformat_minor": 5
}
