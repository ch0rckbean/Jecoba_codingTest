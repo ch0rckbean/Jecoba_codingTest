{
 "cells": [
  {
   "cell_type": "code",
   "execution_count": 13,
   "id": "4fb70c8d",
   "metadata": {},
   "outputs": [
    {
     "name": "stdout",
     "output_type": "stream",
     "text": [
      "[5]\n",
      "[10, 66, 77, 54, 32, 11, 15]\n",
      "-----\n",
      "[5, 10]\n",
      "[66, 77, 54, 32, 11, 15]\n",
      "-----\n",
      "[5, 10, 11]\n",
      "[66, 77, 54, 32, 15]\n",
      "-----\n",
      "[5, 10, 11, 15]\n",
      "[66, 77, 54, 32]\n",
      "-----\n",
      "[5, 10, 11, 15, 32]\n",
      "[66, 77, 54]\n",
      "-----\n",
      "[5, 10, 11, 15, 32, 54]\n",
      "[66, 77]\n",
      "-----\n",
      "[5, 10, 11, 15, 32, 54, 66]\n",
      "[77]\n",
      "-----\n",
      "[5, 10, 11, 15, 32, 54, 66, 77]\n",
      "[]\n",
      "-----\n",
      "최종값\n",
      "[5, 10, 11, 15, 32, 54, 66, 77]\n",
      "[]\n"
     ]
    }
   ],
   "source": [
    "# 선택정렬\n",
    "입력값=[5,10,66,77,54,32,11,15]\n",
    "정렬된리스트=[]\n",
    "\n",
    "# def 최솟값_인덱스_리턴_함수\n",
    "\n",
    "while 입력값:\n",
    "    정렬된리스트.append(min(입력값))\n",
    "    입력값.pop(입력값.index(min(입력값)))\n",
    "    print(정렬된리스트)\n",
    "    print(입력값)\n",
    "    print('-----')\n",
    "\n",
    "print('최종값')    \n",
    "print(정렬된리스트)\n",
    "print(입력값)"
   ]
  },
  {
   "cell_type": "code",
   "execution_count": 33,
   "id": "41243aaf",
   "metadata": {},
   "outputs": [
    {
     "name": "stdout",
     "output_type": "stream",
     "text": [
      "0\n"
     ]
    }
   ],
   "source": [
    "입력값=[5,10,66,77,54,32,11,15]\n",
    "\n",
    "def 최솟값(l):\n",
    "    최소=l[0]\n",
    "    count=0\n",
    "\n",
    "    for i in l:\n",
    "        if 최소 > i:\n",
    "            최소=i\n",
    "            index=count\n",
    "        count+=1\n",
    "    return index\n",
    "\n",
    "print(최솟값(입력값))"
   ]
  },
  {
   "cell_type": "code",
   "execution_count": 28,
   "id": "668f78fe",
   "metadata": {},
   "outputs": [
    {
     "ename": "UnboundLocalError",
     "evalue": "local variable 'index' referenced before assignment",
     "output_type": "error",
     "traceback": [
      "\u001b[1;31m---------------------------------------------------------------------------\u001b[0m",
      "\u001b[1;31mUnboundLocalError\u001b[0m                         Traceback (most recent call last)",
      "\u001b[1;32mC:\\Users\\HYEBEE~1\\AppData\\Local\\Temp/ipykernel_2176/3856814190.py\u001b[0m in \u001b[0;36m<module>\u001b[1;34m\u001b[0m\n\u001b[0;32m     10\u001b[0m     \u001b[1;32mreturn\u001b[0m \u001b[0m인덱스\u001b[0m\u001b[1;33m\u001b[0m\u001b[1;33m\u001b[0m\u001b[0m\n\u001b[0;32m     11\u001b[0m \u001b[1;33m\u001b[0m\u001b[0m\n\u001b[1;32m---> 12\u001b[1;33m \u001b[0mprint\u001b[0m\u001b[1;33m(\u001b[0m\u001b[0m최솟값\u001b[0m\u001b[1;33m(\u001b[0m\u001b[0m입력값\u001b[0m\u001b[1;33m)\u001b[0m\u001b[1;33m)\u001b[0m\u001b[1;33m\u001b[0m\u001b[1;33m\u001b[0m\u001b[0m\n\u001b[0m",
      "\u001b[1;32mC:\\Users\\HYEBEE~1\\AppData\\Local\\Temp/ipykernel_2176/3644314706.py\u001b[0m in \u001b[0;36m최솟값\u001b[1;34m(l)\u001b[0m\n\u001b[0;32m      9\u001b[0m             \u001b[0mindex\u001b[0m\u001b[1;33m=\u001b[0m\u001b[0mcount\u001b[0m\u001b[1;33m\u001b[0m\u001b[1;33m\u001b[0m\u001b[0m\n\u001b[0;32m     10\u001b[0m         \u001b[0mcount\u001b[0m\u001b[1;33m+=\u001b[0m\u001b[1;36m1\u001b[0m\u001b[1;33m\u001b[0m\u001b[1;33m\u001b[0m\u001b[0m\n\u001b[1;32m---> 11\u001b[1;33m     \u001b[1;32mreturn\u001b[0m \u001b[0mindex\u001b[0m\u001b[1;33m\u001b[0m\u001b[1;33m\u001b[0m\u001b[0m\n\u001b[0m\u001b[0;32m     12\u001b[0m \u001b[1;33m\u001b[0m\u001b[0m\n\u001b[0;32m     13\u001b[0m \u001b[0mprint\u001b[0m\u001b[1;33m(\u001b[0m\u001b[0m최솟값\u001b[0m\u001b[1;33m(\u001b[0m\u001b[0m입력값\u001b[0m\u001b[1;33m)\u001b[0m\u001b[1;33m)\u001b[0m\u001b[1;33m\u001b[0m\u001b[1;33m\u001b[0m\u001b[0m\n",
      "\u001b[1;31mUnboundLocalError\u001b[0m: local variable 'index' referenced before assignment"
     ]
    }
   ],
   "source": [
    "입력값=[5,10,66,77,54,32,11,15]\n",
    "\n",
    "def 최솟값_인덱스(l):\n",
    "    인덱스=0\n",
    "    비교값=l[0]\n",
    "    \n",
    "    for i in range(len(l)):\n",
    "        if l[i]<비교값:\n",
    "            인덱스=i\n",
    "    return 인덱스\n",
    "\n",
    "print(최솟값(입력값))"
   ]
  },
  {
   "cell_type": "code",
   "execution_count": null,
   "id": "5ecaf372",
   "metadata": {},
   "outputs": [],
   "source": []
  }
 ],
 "metadata": {
  "kernelspec": {
   "display_name": "Python 3 (ipykernel)",
   "language": "python",
   "name": "python3"
  },
  "language_info": {
   "codemirror_mode": {
    "name": "ipython",
    "version": 3
   },
   "file_extension": ".py",
   "mimetype": "text/x-python",
   "name": "python",
   "nbconvert_exporter": "python",
   "pygments_lexer": "ipython3",
   "version": "3.9.7"
  }
 },
 "nbformat": 4,
 "nbformat_minor": 5
}
